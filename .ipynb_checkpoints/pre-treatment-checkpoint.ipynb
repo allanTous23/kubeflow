{
 "cells": [
  {
   "cell_type": "code",
   "execution_count": null,
   "id": "7fbe1e69-27f4-4483-8cf3-2b59a061d64a",
   "metadata": {},
   "outputs": [],
   "source": []
  }
 ],
 "metadata": {
  "kernelspec": {
   "display_name": "Python 3 (ipykernel)",
   "language": "python",
   "name": "python3"
  },
  "language_info": {
   "codemirror_mode": {
    "name": "ipython",
    "version": 3
   },
   "file_extension": ".py",
   "mimetype": "text/x-python",
   "name": "python",
   "nbconvert_exporter": "python",
   "pygments_lexer": "ipython3",
   "version": "3.12.1"
  }
 },
 "nbformat": 4,
 "nbformat_minor": 5
}
